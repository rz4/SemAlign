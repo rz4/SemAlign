{
 "cells": [
  {
   "cell_type": "markdown",
   "metadata": {},
   "source": [
    "# SemAlign: Semantic Alignment Using Word Embeddings\n",
    "\n",
    "Author: Rafael Zamora-Resendiz\n",
    "\n",
    "## Overview\n",
    "\n",
    "In this quick project, we explore the use of pre-trained word embeddings for sequence-based semantic alignment of text. The algorithm used for sequence-alignment used in this short exploration is inspired by the Smith-Waterman algorithm commonly used in bioinformatics for local alignment of genetic sequences.\n",
    "\n",
    "The Smith-Waterman algorithm uses a substitution matrix which encodes whether specific genes are the same or not. Here, we explore the use of a similarity matrix between words in two texts instead of a substitution matrix to perform the sequence alignment. The similarity matrix is calculated by finding the cosine distance between the embedded vectors of the words.\n",
    "\n",
    "In order to allow for a more fuzzy alignment of the two texts, a gaussian kernel of a set n-gram size is used to convolve over the sequences in order to better match inter-word dependencies."
   ]
  }
 ],
 "metadata": {
  "kernelspec": {
   "display_name": "Python 3",
   "language": "python",
   "name": "python3"
  },
  "language_info": {
   "codemirror_mode": {
    "name": "ipython",
    "version": 3
   },
   "file_extension": ".py",
   "mimetype": "text/x-python",
   "name": "python",
   "nbconvert_exporter": "python",
   "pygments_lexer": "ipython3",
   "version": "3.7.2"
  }
 },
 "nbformat": 4,
 "nbformat_minor": 2
}
